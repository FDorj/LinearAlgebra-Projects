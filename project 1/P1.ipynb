{
 "cells": [
  {
   "cell_type": "code",
   "execution_count": 22,
   "id": "138e8172-78e6-4fc8-8916-0cce47fbd249",
   "metadata": {},
   "outputs": [],
   "source": [
    "import numpy as np"
   ]
  },
  {
   "cell_type": "code",
   "execution_count": 23,
   "id": "2d52b6b0-a7fd-46fb-a833-5ca0531b5433",
   "metadata": {},
   "outputs": [],
   "source": [
    "def interchange(matrix, first_row_index, second_row_index):\n",
    "    temp_array = np.array(matrix[first_row_index])\n",
    "    matrix[first_row_index] = matrix[second_row_index]\n",
    "    matrix[second_row_index] = temp_array"
   ]
  },
  {
   "cell_type": "code",
   "execution_count": 24,
   "id": "f874d927-0690-40f9-adad-82db37b47dce",
   "metadata": {},
   "outputs": [],
   "source": [
    "def scale(matrix, row_index, scalar):\n",
    "    for i in range(matrix[row_index].size):\n",
    "        matrix[row_index][i] *= scalar\n",
    "        if matrix[row_index][i] == -0.:\n",
    "            matrix[row_index][i] = 0."
   ]
  },
  {
   "cell_type": "code",
   "execution_count": 25,
   "id": "5cb3e205-7d90-43eb-b0c4-0ed9d96b6991",
   "metadata": {},
   "outputs": [],
   "source": [
    "def replace(matrix, first_row_index, second_row_index, scalar):\n",
    "    for i in range(matrix[first_row_index].size):\n",
    "        matrix[first_row_index][i] = matrix[second_row_index][i] * scalar + matrix[first_row_index][i]\n",
    "        if matrix[first_row_index][i] == -0.:\n",
    "            matrix[first_row_index][i] = 0."
   ]
  },
  {
   "cell_type": "code",
   "execution_count": 26,
   "id": "89fa84f8-fcd1-474d-8b39-8f10de907aa7",
   "metadata": {},
   "outputs": [],
   "source": [
    "pivot_dimensions = []"
   ]
  },
  {
   "cell_type": "code",
   "execution_count": 27,
   "id": "85d8dce5-5cb0-45d0-a3c1-d785b3005c4d",
   "metadata": {},
   "outputs": [],
   "source": [
    "def find_pivot(matrix, uppest_pivotless_row_index):\n",
    "    last_pivot_column = 0\n",
    "    if len(pivot_dimensions):\n",
    "        last_pivot_column = pivot_dimensions[-1][1] + 1\n",
    "\n",
    "    for i in range(last_pivot_column, np.shape(matrix)[1] - 1):\n",
    "        for j in range(uppest_pivotless_row_index, np.shape(matrix)[0]):\n",
    "            if matrix[j][i] == 0:\n",
    "                continue\n",
    "            else:\n",
    "                interchange(matrix, uppest_pivotless_row_index, j)\n",
    "                pivot_dimensions.append([uppest_pivotless_row_index, i])\n",
    "                return True\n",
    "\n",
    "    return False"
   ]
  },
  {
   "cell_type": "code",
   "execution_count": 28,
   "id": "ba5092e5-8d40-4bbe-af75-498ba0905e7d",
   "metadata": {},
   "outputs": [],
   "source": [
    "def subtract_scaled_pivot_row_from_rows_below(matrix, pivot_row, pivot_column):\n",
    "    for i in range(pivot_row + 1, np.shape(matrix)[0]):\n",
    "        if matrix[i][pivot_column]:\n",
    "            replace(matrix, i, pivot_row, -matrix[i][pivot_column])"
   ]
  },
  {
   "cell_type": "code",
   "execution_count": 29,
   "id": "f24e3874-337b-418e-9f16-132db156d48f",
   "metadata": {},
   "outputs": [],
   "source": [
    "def divide_rows_by_their_pivot_entries(matrix):\n",
    "    scale(matrix, pivot_dimensions[-1][0], 1 / float((matrix[pivot_dimensions[-1][0]][pivot_dimensions[-1][1]])))"
   ]
  },
  {
   "cell_type": "code",
   "execution_count": 30,
   "id": "74dccadf-554a-4d02-ac68-9f6d61ac35f1",
   "metadata": {},
   "outputs": [],
   "source": [
    "# Forward Phase of Row Reduction algorithm\n",
    "def upper_triangle_form(matrix):\n",
    "    uppest_pivotless_row_index = 0\n",
    "    for i in range(np.shape(matrix)[0]):\n",
    "        if find_pivot(matrix, uppest_pivotless_row_index):\n",
    "            divide_rows_by_their_pivot_entries(matrix)\n",
    "            subtract_scaled_pivot_row_from_rows_below(matrix, pivot_dimensions[-1][0], pivot_dimensions[-1][1])\n",
    "            uppest_pivotless_row_index += 1\n",
    "        else:\n",
    "            break"
   ]
  },
  {
   "cell_type": "code",
   "execution_count": 31,
   "id": "8434690f-aa50-421e-ad03-ee5bbd738407",
   "metadata": {},
   "outputs": [],
   "source": [
    "def subtract_scaled_pivot_row_from_rows_above(matrix, pivot_row, pivot_column):\n",
    "    for i in range(pivot_row):\n",
    "        if matrix[i][pivot_column]:\n",
    "            replace(matrix, i, pivot_row, -matrix[i][pivot_column])"
   ]
  },
  {
   "cell_type": "code",
   "execution_count": 32,
   "id": "3e32611c-fbfd-4812-b047-28805fc8db04",
   "metadata": {},
   "outputs": [],
   "source": [
    "# Backward Phase of Row Reduction algorithm\n",
    "def backward_phase(matrix):\n",
    "    for i in range(np.shape(pivot_dimensions)[0]):\n",
    "        subtract_scaled_pivot_row_from_rows_above(matrix, pivot_dimensions[-(i + 1)][0], pivot_dimensions[-(i + 1)][1])"
   ]
  },
  {
   "cell_type": "code",
   "execution_count": 33,
   "id": "0abd649a-ee31-4c20-8168-3c96475acff0",
   "metadata": {},
   "outputs": [],
   "source": [
    "def reduced_echelon_form(augmented_matrix):\n",
    "    upper_triangle_form(augmented_matrix)\n",
    "    backward_phase(augmented_matrix)\n",
    "    print(augmented_matrix)"
   ]
  },
  {
   "cell_type": "code",
   "execution_count": 34,
   "id": "cf1b94dc-a947-4b0e-8b79-f946fe58416a",
   "metadata": {},
   "outputs": [],
   "source": [
    "input_matrix = np.array([\n",
    "    [1, 1, 0, 0, 0, 800],\n",
    "    [0, 1, -1, 1, 0, 300],\n",
    "    [0, 0, 0, 1, 1, 500],\n",
    "    [1, 0, 0, 0, 1, 600]\n",
    "            ],\n",
    "            dtype=np.float32)"
   ]
  },
  {
   "cell_type": "code",
   "execution_count": 35,
   "id": "f57ca3ab-320c-4f12-a9f5-c401c1682e2c",
   "metadata": {},
   "outputs": [
    {
     "name": "stdout",
     "output_type": "stream",
     "text": [
      "[[  1.   0.   0.   0.   1. 600.]\n",
      " [  0.   1.   0.   0.  -1. 200.]\n",
      " [  0.   0.   1.   0.   0. 400.]\n",
      " [  0.   0.   0.   1.   1. 500.]]\n"
     ]
    }
   ],
   "source": [
    "reduced_echelon_form(input_matrix)"
   ]
  }
 ],
 "metadata": {
  "kernelspec": {
   "display_name": "Python 3 (ipykernel)",
   "language": "python",
   "name": "python3"
  },
  "language_info": {
   "codemirror_mode": {
    "name": "ipython",
    "version": 3
   },
   "file_extension": ".py",
   "mimetype": "text/x-python",
   "name": "python",
   "nbconvert_exporter": "python",
   "pygments_lexer": "ipython3",
   "version": "3.12.0"
  }
 },
 "nbformat": 4,
 "nbformat_minor": 5
}
